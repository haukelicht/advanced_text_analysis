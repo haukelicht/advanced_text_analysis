{
 "cells": [
  {
   "cell_type": "markdown",
   "metadata": {},
   "source": [
    "## Sentence embedding: Embedding more than words with sentence transformers\n",
    "\n",
    "This notebook shows how to use [**sentence transformers**](https://sbert.net/) to generate contextualized embeddings for longer text sequences like sentences or short paragraphs.\n",
    "\n",
    "<br><a target=\"_blank\" href=\"https://colab.research.google.com/github/haukelicht/advanced_text_analysis/blob/main/notebooks/sentence_embedding_illustration.ipynb\"><img src=\"https://colab.research.google.com/assets/colab-badge.svg\" alt=\"Open In Colab\"/></a>"
   ]
  },
  {
   "cell_type": "markdown",
   "metadata": {},
   "source": [
    "### Setup"
   ]
  },
  {
   "cell_type": "code",
   "execution_count": 15,
   "metadata": {},
   "outputs": [],
   "source": [
    "# check if on colab\n",
    "COLAB=True\n",
    "try:\n",
    "    import google.colab\n",
    "except:\n",
    "    COLAB=False\n",
    "\n",
    "if COLAB:\n",
    "    # install required packages\n",
    "    !pip install -q sentence-transformers==3.1.0 matplotlib==3.9.2 seaborn==0.13.1 umap-learn==0.5.6\n",
    "\n",
    "if COLAB:\n",
    "    data_path = 'https://raw.githubusercontent.com/haukelicht/advanced_text_analysis/refs/heads/main/data/unlabeled/louwerse_oppoistion_2021/'\n",
    "else:\n",
    "    import os\n",
    "    data_path = os.path.join('..', 'data', 'unlabeled', 'louwerse_oppoistion_2021', '')"
   ]
  },
  {
   "cell_type": "code",
   "execution_count": 16,
   "metadata": {},
   "outputs": [],
   "source": [
    "# for data wrangling\n",
    "import pandas as pd\n",
    "\n",
    "# for document embedding\n",
    "from sentence_transformers import SentenceTransformer\n",
    "\n",
    "# for dimensionality reduction\n",
    "from umap import UMAP \n",
    "\n",
    "# for visaualization\n",
    "import seaborn as sns\n",
    "import matplotlib.pyplot as plt"
   ]
  },
  {
   "cell_type": "code",
   "execution_count": 17,
   "metadata": {},
   "outputs": [],
   "source": [
    "SEED = 42"
   ]
  },
  {
   "cell_type": "markdown",
   "metadata": {},
   "source": [
    "## Load some example data"
   ]
  },
  {
   "cell_type": "markdown",
   "metadata": {},
   "source": [
    "Here we use a corpus of sentences from speeches delivered by opposition speakers in the UK *House of Commons* in debates about COVID-19-related topics.\n",
    "The data has been collected by Tom Louwerse et al. ([2021](https://doi.org/10.1080/01402382.2021.1886519)) and we have obtained the raw (annotated) speech sentences from the authors."
   ]
  },
  {
   "cell_type": "code",
   "execution_count": 18,
   "metadata": {},
   "outputs": [],
   "source": [
    "fp = data_path + 'louwerse_oppoistion_2021-uk_covid_speeches.csv'\n",
    "df = pd.read_csv(fp)"
   ]
  },
  {
   "cell_type": "code",
   "execution_count": 19,
   "metadata": {},
   "outputs": [
    {
     "data": {
      "text/plain": [
       "['I thank the Secretary of State for an advance copy of his statement, and for updating the House this morning.',\n",
       " 'The coronavirus is indeed very concerning, and I am grateful for the work of Public Health England and the Department on it so far, especially in screening passengers on direct flights from Wuhan.',\n",
       " 'However, a passenger arriving from Wuhan yesterday said that he had gone through virtually no screening, but was given a leaflet.',\n",
       " 'Does the Secretary of State have any response to that?',\n",
       " 'Will flights from other Chinese cities, not just Wuhan, be monitored, and when does the Minister think monitoring might begin?',\n",
       " 'Will there be specific traveller advice for UK citizens travelling into China who have existing conditions that may mean they need to take more care?',\n",
       " 'As the Minister said, Public Health England has assessed the risk of the coronavirus being spread to the UK as “low”.',\n",
       " 'In the event of the virus spreading to the UK, are there contingency plans and funds to prevent further spreading, to deal with the scale of the problem?',\n",
       " 'As the Minister knows, we are in the middle of flu season, so I do not want to cause any undue anxiety, especially as—as we have heard—there are no cases in the UK at the moment, but can he please advise people watching who may be concerned about their own symptoms of what they should do?',\n",
       " 'We all know that the NHS has a tremendous record in responding to similar incidents, such as Ebola and monkeypox.',\n",
       " 'We can certainly be proud of our public health record in these areas and can be confident in how public health bodies will respond to this incident.',\n",
       " 'There is a chance that a global pandemic can be avoided if Governments across the world take the right measures in a timely fashion.',\n",
       " 'I thank the Minister for his update today, and would be grateful if he could provide some further clarity on all the points I have raised.']"
      ]
     },
     "execution_count": 19,
     "metadata": {},
     "output_type": "execute_result"
    }
   ],
   "source": [
    "# show first speech (split into sentence at new line character)\n",
    "df.text[0].split('\\n')"
   ]
  },
  {
   "cell_type": "code",
   "execution_count": 20,
   "metadata": {},
   "outputs": [],
   "source": [
    "# split speech texts into sentences (list of strings)\n",
    "df['text'] = df.text.str.split('\\n')\n",
    "# explode into long sentence-level data frame (like tidyr::unnest in R)\n",
    "df = df.explode('text')"
   ]
  },
  {
   "cell_type": "markdown",
   "metadata": {},
   "source": [
    "Let's see how long theses sentences tend to be:"
   ]
  },
  {
   "cell_type": "code",
   "execution_count": 22,
   "metadata": {},
   "outputs": [
    {
     "data": {
      "text/plain": [
       "count    4864\n",
       "mean       24\n",
       "std        13\n",
       "min         2\n",
       "25%        15\n",
       "50%        22\n",
       "75%        31\n",
       "max       141\n",
       "Name: text, dtype: int64"
      ]
     },
     "execution_count": 22,
     "metadata": {},
     "output_type": "execute_result"
    }
   ],
   "source": [
    "(df.text.str.strip().str.split('\\s+', regex=True).apply(len)+1).describe().astype(int)"
   ]
  },
  {
   "cell_type": "markdown",
   "metadata": {},
   "source": [
    "## Sentence embedding"
   ]
  },
  {
   "cell_type": "code",
   "execution_count": 23,
   "metadata": {},
   "outputs": [
    {
     "name": "stderr",
     "output_type": "stream",
     "text": [
      "/Users/hlicht/miniforge3/envs/advanced_text_analysis_gesis_2024/lib/python3.11/site-packages/transformers/tokenization_utils_base.py:1601: FutureWarning: `clean_up_tokenization_spaces` was not set. It will be set to `True` by default. This behavior will be depracted in transformers v4.45, and will be then set to `False` by default. For more details check this issue: https://github.com/huggingface/transformers/issues/31884\n",
      "  warnings.warn(\n"
     ]
    }
   ],
   "source": [
    "# instantiate a sentence embedding model (source: https://www.sbert.net/docs/pretrained_models.html)\n",
    "embedding_model_name = 'all-mpnet-base-v2'\n",
    "embedding_model = SentenceTransformer(embedding_model_name)"
   ]
  },
  {
   "cell_type": "markdown",
   "metadata": {},
   "source": [
    "**_Note:_** Check the leaderboard for sentence embedding: https://huggingface.co/spaces/mteb/leaderboard ([*source*](https://maartengr.github.io/BERTopic/getting_started/embeddings/embeddings.html#sentence-transformers)). There you might find a model that achieves better performance or can ingest longer texts, like 'dunzhang/stella_en_400M_v5' or 'Alibaba-NLP/gte-large-en-v1.5'"
   ]
  },
  {
   "cell_type": "markdown",
   "metadata": {},
   "source": [
    "#### Important \n",
    "\n",
    "It's important to remember that *every* transformer has a maximum number of tokens it can ingest per input document.\n",
    "As the name implies, sentence embedding models works best for either sentences or paragraphs. If your texts are longer documents, they will be truncated which might results in systematic information loss.\n",
    "\n",
    "So you should **always check** if the documents you want to embed are too long for the model you want to use."
   ]
  },
  {
   "cell_type": "code",
   "execution_count": 24,
   "metadata": {},
   "outputs": [
    {
     "data": {
      "text/plain": [
       "384"
      ]
     },
     "execution_count": 24,
     "metadata": {},
     "output_type": "execute_result"
    }
   ],
   "source": [
    "# get the embedding model's max sequence length (measured in tokens)\n",
    "embedding_model.max_seq_length"
   ]
  },
  {
   "cell_type": "code",
   "execution_count": 25,
   "metadata": {},
   "outputs": [],
   "source": [
    "# tokenize your texts with the pre-trained model and get the length of each tokenized text\n",
    "df['n_toks'] = embedding_model.tokenizer(df.text.tolist(), return_length=True, truncation=False).length"
   ]
  },
  {
   "cell_type": "code",
   "execution_count": 26,
   "metadata": {},
   "outputs": [
    {
     "data": {
      "text/plain": [
       "0.0"
      ]
     },
     "execution_count": 26,
     "metadata": {},
     "output_type": "execute_result"
    }
   ],
   "source": [
    "# compute share of sentences that will be truncated\n",
    "(df['n_toks'] > embedding_model.max_seq_length).mean()"
   ]
  },
  {
   "cell_type": "markdown",
   "metadata": {},
   "source": [
    "**_Note:_** \n",
    "If our documents are too long, read [this thread](https://www.reddit.com/r/LanguageTechnology/comments/xh71yt/comment/j4fbqti/).\n",
    "They suggest to use a Transformer model with a higher max. sequence length (e.g., a \"Longformer\").\n",
    "This you could use to create document embeddings with the huggingface `pipeline` API (see [here](https://maartengr.github.io/BERTopic/getting_started/embeddings/embeddings.html#hugging-face-transformers)). \n",
    "Alternatively, you can consider an [alternative document representation](https://maartengr.github.io/BERTopic/getting_started/embeddings/embeddings.html) approach."
   ]
  },
  {
   "cell_type": "code",
   "execution_count": 27,
   "metadata": {},
   "outputs": [
    {
     "data": {
      "text/plain": [
       "4864"
      ]
     },
     "execution_count": 27,
     "metadata": {},
     "output_type": "execute_result"
    }
   ],
   "source": [
    "len(df)"
   ]
  },
  {
   "cell_type": "code",
   "execution_count": 28,
   "metadata": {},
   "outputs": [
    {
     "data": {
      "application/vnd.jupyter.widget-view+json": {
       "model_id": "073a499ef3c14633a87d96d9d4df4826",
       "version_major": 2,
       "version_minor": 0
      },
      "text/plain": [
       "Batches:   0%|          | 0/304 [00:00<?, ?it/s]"
      ]
     },
     "metadata": {},
     "output_type": "display_data"
    }
   ],
   "source": [
    "# WARNING: this will take some time (~1.5 minutes) if you use a CPU\n",
    "embeddings = embedding_model.encode(df.text.tolist(), batch_size=16, show_progress_bar=True)"
   ]
  },
  {
   "cell_type": "markdown",
   "metadata": {},
   "source": []
  },
  {
   "cell_type": "markdown",
   "metadata": {},
   "source": [
    "## Retrieval"
   ]
  },
  {
   "cell_type": "markdown",
   "metadata": {},
   "source": [
    "### Get most similar examples"
   ]
  },
  {
   "cell_type": "code",
   "execution_count": 41,
   "metadata": {},
   "outputs": [],
   "source": [
    "# sample 10 sentences\n",
    "expls = df.text.sample(10, random_state=SEED)\n",
    "expl_embeddings = embeddings[expls.index,:]"
   ]
  },
  {
   "cell_type": "code",
   "execution_count": 50,
   "metadata": {},
   "outputs": [
    {
     "name": "stdout",
     "output_type": "stream",
     "text": [
      "Example sentence: \"I know that the Secretary of State said that we are through the peak, but can the same be said of the care sector, given the number of deaths we have seen reported today in the care sector?\"\n",
      "Most similar sentences:\n",
      "- \"Can the Secretary of State clarify for the House what exactly the travel advice is for those travelling or seeking to travel to northern Italy?\"\n",
      "- \"Will that guidance be changed to state that people should not be travelling to wider northern Italy, and other areas, so that people are not disadvantaged by not having travel insurance if they choose not to put themselves, and indeed all of us, at risk of the disease spreading?\"\n",
      "- \"The Secretary of State suggested that he would not go to wider northern Italy, and the Chief Medical Officer suggested that people with health conditions should not go there.\"\n",
      "- \"Does the Secretary of State recognise the confusion there is that those returning from certain parts of north Italy must self-isolate, even if asymptomatic, but those coming from China do not need to self-isolate if asymptomatic?\"\n",
      "- \"With regard to north Italy, the chief medical officer talked about those with underlying conditions perhaps interpreting the advice more stringently and not travelling, so will the Government either discuss with insurance companies or even consider legislation to make underlying conditions an acceptable reason to cancel a holiday, so that people can get their money back rather than putting themselves at risk?\"\n",
      "\n",
      "Example sentence: \"On the subject of those 21,000 contact tracers, what is being done to support, supervise and train them in what will be an incredibly sensitive job, dealing with not only the individuals affected but their data and other privileged information?\"\n",
      "Most similar sentences:\n",
      "- \", but may I ask the Secretary of State for some specific clarifications?\"\n",
      "- \"May I also raise a very specific issue with the Secretary of State?\"\n",
      "- \"May I press the Secretary of State a little further?\"\n",
      "- \"If the Secretary of State cannot answer all those points today, I hope that he will write to me with the details at a later point.\"\n",
      "- \"May I put to the Secretary of State a few quick questions?\"\n",
      "\n",
      "Example sentence: \"We rely on key workers to be able to go out to work and we need to ensure that their children are safe and being looked after.\"\n",
      "Most similar sentences:\n",
      "- \"IAs he said in his statement, the NHS 111 service is now in effect the frontline service.\"\n",
      "- \"Is the Secretary of State confident that NHS 111 has sufficient capacity to deal with increased numbers of calls?\"\n",
      "- \"Last week I asked the Secretary of State about the preparedness of NHS 111.\"\n",
      "- \"How many call handlers are we looking for in addition to the current staffing levels for NHS 111, and when does he expect them to be fully trained and online?\"\n",
      "- \"Today I bring a message from my colleagues who are working hard on the NHS frontline.\"\n",
      "\n",
      "Example sentence: \"Does the Secretary of State agree?\"\n",
      "Most similar sentences:\n",
      "- \"In past outbreaks, people categorised in that way have often been demonised.\"\n",
      "- \"There is serious concern about reports of racism being linked to the coronavirus outbreak, with people being singled out and abused simply because of east Asian appearance, and some children being bullied.\"\n",
      "- \"Although some call covid the great leveller, I would argue that it has been more of a common backdrop, against which the stains in our social fabric have become even more obvious.\"\n",
      "- \"There is a worry that we could racially profile those who may have this disease and that is not acceptable.\"\n",
      "- \"Many suggested that discrimination and racism increase the risk of covid-19 for BAME communities.\"\n",
      "\n",
      "Example sentence: \"We are proudly here today standing shoulder to shoulder with our friends, our families, our communities who have been deeply affected by this pandemic, and it is a scandal that the Government blocked a review that included recommendations that could have helped to save BAME lives during this crisis.\"\n",
      "Most similar sentences:\n",
      "- \"Can he please follow that up?\"\n",
      "- \"Will he make that clear?\"\n",
      "- \"Will he make that clear?\"\n",
      "- \"Can he update us on that front?\"\n",
      "- \"I note that he said that procedures or arrangements may need to be modified, and we look forward to continued engagement on that front.\"\n",
      "\n",
      "Example sentence: \"Many either have not received those vouchers or have been unable to redeem them, despite the scheme having been launched more than six weeks ago.\"\n",
      "Most similar sentences:\n",
      "- \"Will the UK Government liaise with international partners to ensure accurate reporting?\"\n",
      "- \"What communication have the UK Government had with the WHO?\"\n",
      "- \"Will the Prime Minister report to the House openly and regularly on both sets of data—what we have and what we need—and also set out how those metrics will inform his decision—\"\n",
      "- \"Will the Minister therefore perhaps clarify whether officials in London were briefed by UK mission on the existence of the schemes?\"\n",
      "- \"Will he undertake to publish a data protection impact assessment?\"\n",
      "\n",
      "Example sentence: \"Will we see an immediate suspension of all possession cases?\"\n",
      "Most similar sentences:\n",
      "- \"Finally, can the Secretary of State update the House on international efforts to share research and intelligence, as well as attempts to find a vaccine, and a timescale?\"\n",
      "- \"Will the Secretary of State join me in commending the work of Professor Gilbert and others at the Jenner Institute, who are working tirelessly to develop a vaccine?\"\n",
      "- \"Following the outbreak at Willow Bank Infant School, will the Secretary of State update the House on the work he is undertaking with the Department for Education, local authorities and schools to help contain the outbreak?\"\n",
      "- \"Can the Secretary of State update us on what help he is offering to the World Health Organisation on that front?\"\n",
      "- \"I hope the Secretary of State understands that when we put these questions to him, we are doing so because we want the national effort to defeat this virus to succeed.\"\n",
      "\n",
      "Example sentence: \"I am told that potentially up to 30 directors of public health across this country are poised to have to cancel contracts and make school nurses and health visitors redundant if this money is not confirmed.\"\n",
      "Most similar sentences:\n",
      "- \"On the flight that arrived this morning, there were three different opinions among those coming off the plane: one said that they had had no advice or discussion whatsoever; the second one got a leaflet; and the third one said that they had some tests done before they left China.\"\n",
      "- \"Constituents of mine who returned from mainland China were told to self-isolate, even though they showed no symptoms, and that if they developed symptoms they should go to accident and emergency or their GP.\"\n",
      "- \"Constituents of mine who returned from mainland China were told to self-isolate, even though they showed no symptoms, and that if they developed symptoms they should go to accident and emergency or their GP.\"\n",
      "- \"As far as they are concerned, their travel is essential and it is no use telling them to rely on advice from the Governments in the countries from which they are travelling when, inevitably, they will be the least of those countries’ concerns.\"\n",
      "- \"Therefore, if anyone is flying and going through airports, there is the risk of spread, of simply being on an aeroplane with someone coming from China.\"\n",
      "\n",
      "Example sentence: \"It is welcome that provision has been expanded to ensure that all those working and residing in care homes are able to access testing.\"\n",
      "Most similar sentences:\n",
      "- \"We can no longer think that this only involves people who come from a few countries—people follow different routes, and almost everyone coming in would need to be screened.\"\n",
      "- \"I note that the United States of America has diverted flights to specific screening areas.\"\n",
      "- \"This makes the case, I think, for a universal basic income so that we know who everyone is, and if we give them the money to get through, then nobody, by definition, will have fallen through the cracks.\"\n",
      "- \"Our immigration and asylum laws and processes, touching as they do on millions of people right across our country, must be made to help, not hinder, the public health response to coronavirus.\"\n",
      "- \"It also highlight how problematic the Government’s new immigration rules will be.\"\n",
      "\n",
      "Example sentence: \"BAME staff networks in the north-east have called for the risk assessments to which they are entitled to ensure they are protected.\"\n",
      "Most similar sentences:\n",
      "- \"”Can the Secretary of State advise the House that that is not the Government’s official position?\"\n",
      "- \"Could the Secretary of State clarify the Government’s position?\"\n",
      "- \"Does the Secretary of State agree?\"\n",
      "- \"Does the Secretary of State accept that it does not have to be all or nothing?\"\n",
      "- \"Does the Secretary of State have any response to that?\"\n",
      "\n"
     ]
    }
   ],
   "source": [
    "from sentence_transformers.util import cos_sim\n",
    "import numpy as np\n",
    "\n",
    "# Compute cosine similarity between example embeddings and all embeddings\n",
    "similarities = cos_sim(expl_embeddings, embeddings)\n",
    "\n",
    "# Find the indices of the 10 most similar sentences for each example sentence\n",
    "most_similar_indices = np.argsort(-similarities, axis=1)[:, :5]\n",
    "\n",
    "# Retrieve the most similar sentences\n",
    "most_similar_sentences = [df.text.iloc[indices].tolist() for indices in most_similar_indices]\n",
    "\n",
    "# Display the most similar sentences for each example sentence\n",
    "for i, example in enumerate(expls):\n",
    "    print(f'Example sentence: \"{example}\"')\n",
    "    print(\"Most similar sentences:\")\n",
    "    for sentence in most_similar_sentences[i]:\n",
    "        print(f'- \"{sentence}\"')\n",
    "    print()"
   ]
  },
  {
   "cell_type": "markdown",
   "metadata": {},
   "source": [
    "### Get relevant examples"
   ]
  },
  {
   "cell_type": "code",
   "execution_count": 75,
   "metadata": {
    "vscode": {
     "languageId": "ruby"
    }
   },
   "outputs": [],
   "source": [
    "def rank_relevance(query, embeddings, model):\n",
    "    # encode the query using the embedding model\n",
    "    query_embedding = model.encode([query])\n",
    "\n",
    "    # compute cosine similarity between the query embedding and all sentence embeddings\n",
    "    query_similarities = cos_sim(query_embedding, embeddings).flatten()\n",
    "\n",
    "    # rank the sentences based on their similarity to the query\n",
    "    ranked = np.argsort(-query_similarities)\n",
    "    return ranked, query_similarities[ranked]"
   ]
  },
  {
   "cell_type": "code",
   "execution_count": 76,
   "metadata": {
    "vscode": {
     "languageId": "ruby"
    }
   },
   "outputs": [],
   "source": [
    "ranked_indices, query_similarities = rank_relevance(\n",
    "    query = \"Which sentence discusses consequences for ethnic minorities?\",\n",
    "    embeddings=embeddings,\n",
    "    model=embedding_model\n",
    ")"
   ]
  },
  {
   "cell_type": "code",
   "execution_count": 77,
   "metadata": {},
   "outputs": [
    {
     "data": {
      "image/png": "[encoded data removed]",
      "text/plain": [
       "<Figure size 640x480 with 1 Axes>"
      ]
     },
     "metadata": {},
     "output_type": "display_data"
    }
   ],
   "source": [
    "# Plot the histogram of similarity scores\n",
    "plt.hist(query_similarities, bins=50)\n",
    "plt.title('Histogram of Similarity Scores')\n",
    "plt.xlabel('Similarity Score')\n",
    "plt.ylabel('Frequency')\n",
    "plt.show()"
   ]
  },
  {
   "cell_type": "code",
   "execution_count": 79,
   "metadata": {},
   "outputs": [
    {
     "data": {
      "text/plain": [
       "tensor([4006, 3659, 4077,  ..., 1561, 4612, 1380])"
      ]
     },
     "execution_count": 79,
     "metadata": {},
     "output_type": "execute_result"
    }
   ],
   "source": [
    "# relative threshold: 10% most similar\n",
    "r = int(len(ranked_indices)/0.10)\n",
    "ranked_indices[:r]"
   ]
  },
  {
   "cell_type": "code",
   "execution_count": 82,
   "metadata": {},
   "outputs": [
    {
     "data": {
      "text/plain": [
       "tensor([4006, 3659, 4077, 4143, 3619, 3842, 4008, 3908,  941, 4387, 3794, 2746,\n",
       "        4480])"
      ]
     },
     "execution_count": 82,
     "metadata": {},
     "output_type": "execute_result"
    }
   ],
   "source": [
    "# absolute threshold: similarity >= 0.5\n",
    "t = sum(query_similarities >= 0.5)\n",
    "ranked_indices[:t]"
   ]
  },
  {
   "cell_type": "code",
   "execution_count": 83,
   "metadata": {
    "vscode": {
     "languageId": "ruby"
    }
   },
   "outputs": [
    {
     "name": "stdout",
     "output_type": "stream",
     "text": [
      "Rank 01: \"The ethnic minority population is more likely to live in areas of deprivation—especially black, Pakistani and Bangladeshi people.\"\n",
      "Rank 02: \"Almost three quarters of health and social care staff who were battling this virus on our behalf but who subsequently died as a result of covid-19 were black, Asian and minority ethnic, so I am hoping against hope that one of the few positives to take from this national crisis is that those espousing hatred against minorities and migrants will now be ignored, and that will lead to less racism and greater community cohesion.\"\n",
      "Rank 03: \"This debate is rightly focused on the impact of coronavirus on black, Asian and minority ethnic communities—a point extremely pertinent to my constituency.\"\n",
      "Rank 04: \"I am disappointed that I cannot pay tribute to the BAME community in my constituency or anywhere in Scotland and talk about the impact on them, because National Records of Scotland does not record deaths by ethnicity—it is voluntary—so the impact could be anywhere between 1% and 10%.\"\n",
      "Rank 05: \"Many suggested that discrimination and racism increase the risk of covid-19 for BAME communities.\"\n",
      "Rank 06: \"”Simon goes on to say:“The UK continues to face a global health emergency that has disproportionately affected people from black, Asian and minority ethnic groups, including here in the UK, with many minorities living in deprivation simply left dead by covid-19, not protected adequately by the UK Government.\"\n",
      "Rank 07: \"Overcrowding affects ethnic minority households disproportionately.\"\n",
      "Rank 08: \"On the acute risk of covid-19 and severe illness and death for BAME communities, I turn briefly to a critical matter touched on earlier that is of the utmost public interest.\"\n",
      "Rank 09: \"In that respect, I want to focus on a number of groups in our society.\"\n",
      "Rank 10: \"The SNP Government have put equality and human rights at the heart of their response to coronavirus, and Nicola Sturgeon today announced further analysis of the impact on people from BAME communities in Scotland.\"\n",
      "Rank 11: \"The findings of the PHE report into the disproportionate impact of the coronavirus on black and minority ethnic people are or should be embarrassing—they should be collectively embarrassing.\"\n",
      "Rank 12: \"People from black, Asian and minority ethnic communities go to work knowing that they are more at risk than others.\"\n",
      "Rank 13: \"The risk faced by BAME communities here in the UK is down to structural racism and the precarious work that people are placed in as a result.\"\n"
     ]
    }
   ],
   "source": [
    "# retrieve the ranked sentences\n",
    "ranked_sentences = df.text.iloc[ranked_indices].tolist()\n",
    "\n",
    "# display the ranked sentences\n",
    "top_n = t\n",
    "for i, sentence in enumerate(ranked_sentences[:top_n]):\n",
    "    print(f'Rank {i+1:02d}: \"{sentence}\"')"
   ]
  },
  {
   "cell_type": "markdown",
   "metadata": {},
   "source": [
    "## Dimensionality reduction"
   ]
  },
  {
   "cell_type": "markdown",
   "metadata": {},
   "source": [
    "As in the case of using dimensionality reduction and clustering when we worked with contextualized word embeddings, we can try to locate and cluster sentences based on their embeddings.\n",
    "Ideally, this should give us a roughly topical clustering."
   ]
  },
  {
   "cell_type": "code",
   "execution_count": 36,
   "metadata": {},
   "outputs": [],
   "source": [
    "umap_model = UMAP(\n",
    "    n_neighbors=50, \n",
    "    n_components=2, # use only 2D for visualization\n",
    "    min_dist=0.0, \n",
    "    metric='cosine', \n",
    "    random_state=SEED\n",
    ")"
   ]
  },
  {
   "cell_type": "code",
   "execution_count": 37,
   "metadata": {},
   "outputs": [
    {
     "name": "stderr",
     "output_type": "stream",
     "text": [
      "/Users/hlicht/miniforge3/envs/advanced_text_analysis_gesis_2024/lib/python3.11/site-packages/umap/umap_.py:1945: UserWarning: n_jobs value 1 overridden to 1 by setting random_state. Use no seed for parallelism.\n",
      "  warn(f\"n_jobs value {self.n_jobs} overridden to 1 by setting random_state. Use no seed for parallelism.\")\n"
     ]
    }
   ],
   "source": [
    "# Apply the UMAP model to the embeddings\n",
    "embeddings_2d = umap_model.fit_transform(embeddings)"
   ]
  },
  {
   "cell_type": "code",
   "execution_count": 62,
   "metadata": {},
   "outputs": [],
   "source": [
    "df['debate_subject'].unique()\n",
    "topics = [\n",
    "    'Coronavirus: Employment Support',\n",
    "    'Covid-19: Repatriation of UK Nationals',\n",
    "    'Covid-19: Housing Market',\n",
    "    'Covid-19: Economic Package',\n",
    "    'Covid-19: Support for UK Industries',\n",
    "    'Covid-19: Transport',\n",
    "    'Covid-19: School Reopening',\n",
    "    'Covid-19: BAME Communities',\n",
    "]\n",
    "\n",
    "tmp = df[df.debate_subject.isin(topics)]"
   ]
  },
  {
   "cell_type": "code",
   "execution_count": 63,
   "metadata": {},
   "outputs": [
    {
     "data": {
      "image/png": "[encoded data removed]",
      "text/plain": [
       "<Figure size 1000x800 with 1 Axes>"
      ]
     },
     "metadata": {},
     "output_type": "display_data"
    }
   ],
   "source": [
    "# Create a scatter plot of the 2D embeddings, colored by debate_subject\n",
    "plt.figure(figsize=(10, 8))\n",
    "sns.scatterplot(x=embeddings_2d[tmp.index, 0], y=embeddings_2d[tmp.index, 1], hue=tmp['debate_subject'], legend='full')\n",
    "plt.title('2D UMAP Embeddings of speech sentences')\n",
    "plt.xlabel('UMAP Dimension 1')\n",
    "plt.ylabel('UMAP Dimension 2')\n",
    "plt.legend(bbox_to_anchor=(1.05, 1), loc='upper left')\n",
    "plt.show()"
   ]
  },
  {
   "cell_type": "markdown",
   "metadata": {},
   "source": [
    "Unfortunately, this is not very informative as eyeballing clusters is really difficult here.\n",
    "\n",
    "But maybe 2D is just too few dimensions.\n",
    "Or the debate titles are no good summaries (too generic?) of what speakers talk about."
   ]
  },
  {
   "cell_type": "markdown",
   "metadata": {},
   "source": [
    "Fortunately, we can do better with BERTopic &rArr; see notebook [\"topicmodel_bertopic.ipynb\"](./topicmodel_bertopic.ipynb)"
   ]
  }
 ],
 "metadata": {
  "kernelspec": {
   "display_name": "advanced_text_analysis_gesis_2024",
   "language": "python",
   "name": "python3"
  },
  "language_info": {
   "codemirror_mode": {
    "name": "ipython",
    "version": 3
   },
   "file_extension": ".py",
   "mimetype": "text/x-python",
   "name": "python",
   "nbconvert_exporter": "python",
   "pygments_lexer": "ipython3",
   "version": "3.11.9"
  }
 },
 "nbformat": 4,
 "nbformat_minor": 2
}
