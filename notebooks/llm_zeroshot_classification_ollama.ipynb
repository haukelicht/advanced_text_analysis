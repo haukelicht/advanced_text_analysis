{
 "cells": [
  {
   "cell_type": "markdown",
   "id": "025017f5",
   "metadata": {},
   "source": [
    "# Zero-shot text classification with ollama and Llama 3 8B model\n",
    "\n",
    "This notebook illustrates how to use the Llama 3 8B model via `ollama` for text classification."
   ]
  },
  {
   "cell_type": "code",
   "execution_count": 2,
   "id": "da313a2e",
   "metadata": {},
   "outputs": [],
   "source": [
    "import os\n",
    "from ollama import Client\n",
    "import re"
   ]
  },
  {
   "cell_type": "code",
   "execution_count": 12,
   "id": "86883713",
   "metadata": {},
   "outputs": [],
   "source": [
    "client = Client()\n",
    "MODEL = 'llama3:8b' # currently the latest version of GPT-4o"
   ]
  },
  {
   "cell_type": "code",
   "execution_count": 13,
   "id": "391c6f28",
   "metadata": {},
   "outputs": [],
   "source": [
    "assert MODEL in [m['model'] for m in client.list()['models']], f\"Model not found. First run `client.pull('{MODEL}')`.\""
   ]
  },
  {
   "cell_type": "markdown",
   "id": "b3e11918",
   "metadata": {},
   "source": [
    "## Define the task\n",
    "\n",
    "In this example, we adapt the instruction for one of the tweet classification tasks examined in Gilardi et al. ([2023](https://www.pnas.org/doi/10.1073/pnas.2305016120)) \"ChatGPT outperforms crowd workers for text-annotation tasks\"\n",
    "\n",
    "- see [this README file](../data/labeled/gilardi_chatgpt_2023/README.md) for a description of the data and tasks covered in the paper\n",
    "- see [this file](../data/labeled/gilardi_chatgpt_2023/instructions.md) for a copy of their original task instructions"
   ]
  },
  {
   "cell_type": "code",
   "execution_count": 14,
   "id": "86c19a4e",
   "metadata": {},
   "outputs": [],
   "source": [
    "instructions = \"\"\"\n",
    "For each tweet in the sample, follow these instructions:\n",
    "\n",
    "1. Carefully read the text of the tweet, paying close attention to details.\n",
    "2. Classify the tweet as either relevant (1) or irrelevant (0)\n",
    "\"\"\"\n",
    "\n",
    "categories = [\"Relevant\", \"Irrelevant\"]\n",
    "\n",
    "defintions = \"\"\"\n",
    "Tweets should be coded as RELEVANT when they directly relate to content moderation, as defined above. This includes tweets that discuss: social media platforms’ content moderation rules and practices, governments’ regulation of online content moderation, and/or mild forms of content moderation like flagging.\n",
    "Tweets should be coded as IRRELEVANT if they do not refer to content moderation, as defined above, or if they are themselves examples of moderated content. This would include, for example, a Tweet by Donald Trump that Twitter has labeled as “disputed”, a tweet claiming that something is false, or a tweet containing sensitive content. Such tweets might be subject to content moderation, but are not discussing content moderation. Therefore, they should be coded as irrelevant for our purposes.\n",
    "\"\"\""
   ]
  },
  {
   "cell_type": "code",
   "execution_count": 16,
   "id": "02dde969",
   "metadata": {},
   "outputs": [
    {
     "name": "stdout",
     "output_type": "stream",
     "text": [
      "Classify the following text into one of the given categories: ['Relevant', 'Irrelevant']\n",
      "\n",
      "Tweets should be coded as RELEVANT when they directly relate to content moderation, as defined above. This includes tweets that discuss: social media platforms’ content moderation rules and practices, governments’ regulation of online content moderation, and/or mild forms of content moderation like flagging.\n",
      "Tweets should be coded as IRRELEVANT if they do not refer to content moderation, as defined above, or if they are themselves examples of moderated content. This would include, for example, a Tweet by Donald Trump that Twitter has labeled as “disputed”, a tweet claiming that something is false, or a tweet containing sensitive content. Such tweets might be subject to content moderation, but are not discussing content moderation. Therefore, they should be coded as irrelevant for our purposes.\n",
      "\n",
      "Only include the selected category in your response and no further text.\n"
     ]
    }
   ],
   "source": [
    "# Let's format the prompt\n",
    "prompt = f\"Classify the following text into one of the given categories: {categories}\\n{defintions}\\nOnly include the selected category in your response and no further text.\"\n",
    "print(prompt)"
   ]
  },
  {
   "cell_type": "code",
   "execution_count": 15,
   "id": "e1b2477c",
   "metadata": {},
   "outputs": [],
   "source": [
    "texts = [\n",
    "    # negative examples (\"irrelevant\")\n",
    "    \"\\\"Turns out Mike Bloomberg is exactly what Elizabeth Warren needed to break through in the 2020 Democratic primary. And he’s not just a foil for her on the campaign trail — this is something she believes in, and it shows.\\\" https://t.co/1SyaHXrZlO\",\n",
    "    \"@blackhat___05 ye raha new user name change kiya kamine ne😡🗡️😡🗡️😡🗡️😡 karo abhi FNfollow reopt aur block\",\n",
    "    \"The Kid!\\n \\nRETWEET for a chance at a @RawlingsSports baseball signed by Ken Griffey Jr. and tune in to #Junior tonight at 8pm ET/5pm PT on MLB Network.\\n \\nRules: https://t.co/MdkXLh1CdN | NoPurNec, US 18+, Ends 6/22 https://t.co/8Xw0HpHz2G\",\n",
    "    \"TW / gore \\n\\nif you come across an account and want to block them, make sure to cover the bottom half of your screen. the gore is normally at the bottom of the screen. again, stay safe, and take precaution\",\n",
    "    \"@Godlesswh_re Blocked.  Is this another Nick account?\",\n",
    "    # positive examples (\"relevant\")\n",
    "    \"Twitter we want you to suspend Marcon's account.\\n#twitterSuspendMacronAccount #TwitterSuspendMarcon @verified @Twitter @TwitterSupport\",\n",
    "    \"Twitter needs to permanently suspend @realDonaldTrump account.  Who's with me?\",\n",
    "    \"Toei is one of the most active reporters of content on Youtube and everything runs through an auto filter. Today, Toei dropped a ridiculous volume of their own series onto an official Youtube channel and GOT BANNED AND REPORTED BY THEMSELVES, TOEI.\",\n",
    "    \"Marsha Blackburn: We Are Looking at Antitrust Laws and Section 230 on Tech Censorship https://t.co/lsOWzD0Yri\",\n",
    "    \"#Facebook has banned the iconic photograph of a #Soviet solider waving the #USSR flag over the #Reichstag in May 1945. The social network claims the image violates its community guidelines for dangerous people and organizations...\\n\\nMORE: https://t.co/arpDN9Ss0P https://t.co/KGtGwE4D5J\"\n",
    "]"
   ]
  },
  {
   "cell_type": "markdown",
   "id": "1a7520f9",
   "metadata": {},
   "source": [
    "### A single text example"
   ]
  },
  {
   "cell_type": "code",
   "execution_count": 17,
   "id": "ed4861eb",
   "metadata": {},
   "outputs": [],
   "source": [
    "text_input = texts[0]"
   ]
  },
  {
   "cell_type": "code",
   "execution_count": 25,
   "id": "647308d5",
   "metadata": {},
   "outputs": [],
   "source": [
    "# convert to conversation history\n",
    "messages = [\n",
    "  # system prompt\n",
    "  {\"role\": \"system\", \"content\": prompt},\n",
    "  # user input\n",
    "  {\"role\": \"user\", \"content\": text_input},\n",
    "]"
   ]
  },
  {
   "cell_type": "code",
   "execution_count": 27,
   "id": "12a93c97",
   "metadata": {},
   "outputs": [],
   "source": [
    "from ollama._types import Options\n",
    "\n",
    "opts = Options(seed=42, temperature=0.0, max_tokens=3)"
   ]
  },
  {
   "cell_type": "code",
   "execution_count": 30,
   "id": "abab543c",
   "metadata": {},
   "outputs": [],
   "source": [
    "response = client.chat(MODEL, messages, options=opts)"
   ]
  },
  {
   "cell_type": "code",
   "execution_count": 34,
   "id": "c6cc4b18",
   "metadata": {},
   "outputs": [
    {
     "data": {
      "text/plain": [
       "'Irrelevant'"
      ]
     },
     "execution_count": 34,
     "metadata": {},
     "output_type": "execute_result"
    }
   ],
   "source": [
    "# parse the response\n",
    "response['message']['content']"
   ]
  },
  {
   "cell_type": "markdown",
   "id": "6596973d",
   "metadata": {},
   "source": [
    "### Iterate over multiple examples"
   ]
  },
  {
   "cell_type": "markdown",
   "id": "5373b62c",
   "metadata": {},
   "source": [
    "Let's first define a custom function to classify tweets:"
   ]
  },
  {
   "cell_type": "code",
   "execution_count": 35,
   "id": "7fb21f0c",
   "metadata": {},
   "outputs": [],
   "source": [
    "def classify_tweet(text, system_message, model):\n",
    "\n",
    "  # clean the text \n",
    "  text = re.sub(r'\\s+', ' ', text).strip()\n",
    "\n",
    "  # construct input\n",
    "\n",
    "  messages = [\n",
    "    # system prompt\n",
    "    {\"role\": \"system\", \"content\": system_message},\n",
    "    # user input\n",
    "    {\"role\": \"user\", \"content\": text},\n",
    "  ]\n",
    "\n",
    "  opts = Options(seed=42, temperature=0.0, max_tokens=3)\n",
    "  response = client.chat(model, messages, options=opts)\n",
    "  \n",
    "  result = response['message']['content']\n",
    "  \n",
    "  return result"
   ]
  },
  {
   "cell_type": "markdown",
   "id": "c6788aed",
   "metadata": {},
   "source": [
    "Now we can iterate over example texts:"
   ]
  },
  {
   "cell_type": "code",
   "execution_count": 36,
   "id": "6bee84cd",
   "metadata": {},
   "outputs": [
    {
     "data": {
      "text/plain": [
       "['Irrelevant',\n",
       " 'Irrelevant',\n",
       " 'Irrelevant',\n",
       " 'Relevant',\n",
       " 'Irrelevant',\n",
       " 'Relevant',\n",
       " 'Irrelevant',\n",
       " 'Relevant',\n",
       " 'Relevant',\n",
       " 'Irrelevant']"
      ]
     },
     "execution_count": 36,
     "metadata": {},
     "output_type": "execute_result"
    }
   ],
   "source": [
    "classifications = [classify_tweet(text, prompt, model=MODEL) for text in texts]\n",
    "classifications"
   ]
  },
  {
   "cell_type": "markdown",
   "id": "2713ab25",
   "metadata": {},
   "source": [
    "- 3/5 negative examples classified correctly\n",
    "- 3/5 positive examples classified correctly"
   ]
  }
 ],
 "metadata": {
  "kernelspec": {
   "display_name": "llm_text_annotation",
   "language": "python",
   "name": "python3"
  },
  "language_info": {
   "codemirror_mode": {
    "name": "ipython",
    "version": 3
   },
   "file_extension": ".py",
   "mimetype": "text/x-python",
   "name": "python",
   "nbconvert_exporter": "python",
   "pygments_lexer": "ipython3",
   "version": "3.11.9"
  }
 },
 "nbformat": 4,
 "nbformat_minor": 5
}
