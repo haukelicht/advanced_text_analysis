{
 "cells": [
  {
   "cell_type": "markdown",
   "id": "5990aed0",
   "metadata": {},
   "source": [
    "# Classification evaluation metrics explained\n",
    "\n",
    "This notebook introduces key metrics for evaluating classification performance. \n",
    "Understanding these metrics is crucial for interpreting the performance of classification models, especially in the context of varying data distributions such as imbalanced datasets."
   ]
  },
  {
   "cell_type": "markdown",
   "id": "2a9e277f",
   "metadata": {},
   "source": [
    "## Background: Classification\n",
    "\n",
    "Classification is the task of predicting a discrete class label for a given input.\n",
    "In the context of our workshop, the input is a text.\n",
    "\n",
    "A text typical classification task is sentiment analysis.\n",
    "The goal of sentiment analysis is to distinguish positive from negative texts.\n",
    "In this case, the classes are \"positive\" and \"negative\".\n",
    "Because there are only two classes, this is called **binary classification**.\n",
    "\n",
    "Sometimes, there are more than two label classes, however.\n",
    "For example, in sentiment analysis we can consider the possibility that texts are neither positive nor negative, but neutral.\n",
    "In this case, we would have three classes: \"positive\", \"negative\", and \"neutral\".\n",
    "This is called **multi-class classification**.\n",
    "\n",
    "### Train and test sets \n",
    "\n",
    "Machine learning models learn to predict the class label based on the features of the input data using a sample of \"training\" examples.\n",
    "Training means to find the model parameters that allow it to make most-accurate predictions.\n",
    "Like in an OLS regression, the model learns the relation between the outputs and inputs.\n",
    "\n",
    "\n",
    "### Evaluation\n",
    "\n",
    "To see how well a model performs to data not available for training, we need to *evaluate* its predictions against some ground truth or gold standard (e.g., and expert's annotations).\n",
    "In the context of classification, **evaluation simply means comparing predicted class labels to observed (\"true\") class labels.**\n",
    "To evaluate a model, we thus need a sample of labeled examples that have not been used for training - a separate set of held-out \"test\" examples."
   ]
  },
  {
   "cell_type": "markdown",
   "id": "f909c01e",
   "metadata": {},
   "source": [
    "## Evaluation metrics"
   ]
  },
  {
   "cell_type": "markdown",
   "id": "045b87ee",
   "metadata": {},
   "source": [
    "### Accuracy\n",
    "\n",
    "Accuracy is one of the most intuitive and common metrics for assessing the performance of a classification model.\n",
    "It is simply the **proportion of examples the model classified correctly**.\n",
    "The formula for accuracy is:\n",
    "\n",
    "$$\\text{Accuracy} = \\frac{\\text{Number of Correct Predictions}}{\\text{Total Number of Predictions}}$$\n",
    "\n",
    "However, the accuracy metric has its **limitations**.\n",
    "In the context of imbalanced datasets where the class distribution is skewed (i.e., one class is much more frequent than the other), accuracy can be misleading.\n",
    "In such cases, a model might achieve high accuracy by merely predicting the majority class, while failing to correctly predict the minority class, which is often of greater interest."
   ]
  },
  {
   "cell_type": "markdown",
   "id": "5576da25",
   "metadata": {},
   "source": [
    "### Precision, Recall, and the F1 Score\n",
    "\n",
    "To overcome the limitations of accuracy, especially in imbalanced datasets, we use more nuanced metrics such as precision, recall, and the F1 score.\n",
    "\n",
    "To understand how what goes into these metrics, consider a binary classification task where we have two classes: \"Positive\" and \"Negative\".\n",
    "For a set of test examples, we can cross-tabulate the predicted and true class labels into four categories:\n",
    "\n",
    "\n",
    "| <a/> | **_Predicted_ \"Positive\"** | **_Predicted_ \"Negative\"** |\n",
    "|:--- |:---:|:---:|\n",
    "| **Observed \"Positive\"** | True Positives (TP) | False Negatives (FN) |\n",
    "| **Observed \"Negative\"** | False Positives (FP) | True Negatives (TN) |\n",
    "\n",
    "\n",
    "- **True Positives (TP)**: The model correctly predicted the positive class.\n",
    "- **True Negatives (TN)**: The model correctly predicted the negative class.\n",
    "- **False Positives (FP)**: The model incorrectly predicted the positive class (it predicted positive, but the true label was negative).\n",
    "- **False Negatives (FN)**: The model incorrectly predicted the negative class (it predicted negative, but the true label was positive).\n",
    "\n",
    "#### Recall\n",
    "\n",
    "Recall measures the proportion of \"positive\" examples that were correctly identified by the classifier:\n",
    "\n",
    "$$\\text{Recall} = \\frac{\\text{True Positives}}{\\text{True Positives} + \\text{False Negatives}}$$\n",
    "\n",
    "Recall should be the focus when the cost of false negatives is high as, for example, in medical diagnosis or when the goal is to retrieve relevant examples (e.g., political texts in a larger corpus of potentially non-political texts).\n",
    "\n",
    "Note one problem with recall, though. Any classifier can achieve perfect recall by predicting positive class labels for all examples (because in this way, there is no chance to miss any true positives)!\n",
    "Hence, we should not only care about recall but also about how many of the examples predicted to be \"positive\" are indeed \"positive\" examples - which brings us to the precision metric.\n",
    "\n",
    "#### Precision\n",
    "\n",
    "Precision measures the proportion of true positive predictions in the pool of all positive predictions made by the model:\n",
    "\n",
    "$$\\text{Precision} = \\frac{\\text{True Positives}}{\\text{True Positives} + \\text{False Positives}}$$\n",
    "\n",
    "The precision metric is important understand how many of the positive predictions made by the model are actually correct.\n",
    "Precision should be the focus when the cost of false positives is high as, for example, in the case of court rulings.\n",
    "\n",
    "Mirroring the problem with the recall metric, solely focussing on precision can be problematic, however, because a classifier that apploes the principle 'be better safe than sorry' and predicts \"positive\" labels relatively rarely will have high precision (but low recall).\n",
    "\n",
    "\n",
    "#### F1 Score\n",
    "\n",
    "The limitations of solely focusing on precision or recall already highlight that its best to keep an eye on both.\n",
    "This is the job of the F1 score!\n",
    "\n",
    "The F1 Score is the [harmonic mean](https://en.wikipedia.org/wiki/Harmonic_mean) of precision and recall and provides as single metrica that evenly balances precision and recall.\n",
    "It is computed as follows:\n",
    "\n",
    "$$F1 = 2 \\times \\frac{\\text{Precision} \\times \\text{Recall}}{\\text{Precision} + \\text{Recall}}$$\n"
   ]
  },
  {
   "cell_type": "markdown",
   "id": "39a566a3",
   "metadata": {},
   "source": [
    "## Computing evaluation metrics with scikit-learn\n",
    "\n",
    "To illustrate these concepts, we will use simple toy examples and compute these metrics using the `scikit-learn` library."
   ]
  },
  {
   "cell_type": "code",
   "execution_count": 1,
   "id": "c9e6f106",
   "metadata": {},
   "outputs": [],
   "source": [
    "# load the required libraries\n",
    "from sklearn.metrics import accuracy_score, precision_score, recall_score, f1_score"
   ]
  },
  {
   "cell_type": "code",
   "execution_count": 3,
   "id": "b08046f2",
   "metadata": {},
   "outputs": [],
   "source": [
    "# construct observed (\"true\") and predicted (\"pred\") labels\n",
    "y_true = [0, 1, 1, 0, 1, 0, 0, 1, 1, 0]\n",
    "y_pred = [0, 0, 1, 0, 1, 1, 0, 1, 0, 0]\n",
    "#            ^           ^        ^     ... the entries highlighted are cases of disagreement"
   ]
  },
  {
   "cell_type": "code",
   "execution_count": 4,
   "id": "d1de15c0",
   "metadata": {},
   "outputs": [
    {
     "name": "stdout",
     "output_type": "stream",
     "text": [
      "Accuracy: 0.7\n",
      "Precision: 0.75\n",
      "Recall: 0.6\n",
      "F1 Score: 0.6666666666666666\n"
     ]
    }
   ],
   "source": [
    "# compute the metrics\n",
    "accuracy = accuracy_score(y_true, y_pred)\n",
    "precision = precision_score(y_true, y_pred)\n",
    "recall = recall_score(y_true, y_pred)\n",
    "f1 = f1_score(y_true, y_pred)\n",
    "\n",
    "print(\"Accuracy:\", accuracy)\n",
    "print(\"Precision:\", precision)\n",
    "print(\"Recall:\", recall)\n",
    "print(\"F1 Score:\", f1)\n"
   ]
  },
  {
   "cell_type": "markdown",
   "id": "561d9165",
   "metadata": {},
   "source": [
    "There is a also a super helpful function that presents a nice-to-look-at overview of these metrics:"
   ]
  },
  {
   "cell_type": "code",
   "execution_count": 5,
   "id": "3e9b1cc6",
   "metadata": {},
   "outputs": [
    {
     "name": "stdout",
     "output_type": "stream",
     "text": [
      "              precision    recall  f1-score   support\n",
      "\n",
      "     Class 0       0.67      0.80      0.73         5\n",
      "     Class 1       0.75      0.60      0.67         5\n",
      "\n",
      "    accuracy                           0.70        10\n",
      "   macro avg       0.71      0.70      0.70        10\n",
      "weighted avg       0.71      0.70      0.70        10\n",
      "\n"
     ]
    }
   ],
   "source": [
    "from sklearn.metrics import classification_report\n",
    "\n",
    "print(classification_report(y_true, y_pred, target_names=[\"Class 0\", \"Class 1\"]))"
   ]
  },
  {
   "cell_type": "markdown",
   "id": "834fda81",
   "metadata": {},
   "source": [
    "In the *classification report*, the second row (for label class 1) shows the metrics we have computed above individually, because `classification_report` assumes that 1 is the \"positive\" label class.\n",
    "The first row (for label class 0), in turn, reports the metrics when treating 0 as the \"positive\" label class.\n",
    "\n",
    "The column \"support\" simply counts the number of examples per label class (rows 1 and 2) and in total (final rows). \n",
    "\n",
    "The final three rows report summaries of class-specific metrics.\n",
    "The accuracy we have already introduced above.\n",
    "The macro average (\"macro avg\") simply averages class-specific metrics.\n",
    "The weighted average (\"weighted avg\")  averages class-specific metrics while weighting them by their support (i.e., prevalence).\n",
    "Because in our toy example, the positive and negative examples are equally frequent (i.e., the label classes are \"balanced\"), the macro and weighted metrics are identical."
   ]
  },
  {
   "cell_type": "markdown",
   "id": "53be4b61",
   "metadata": {},
   "source": [
    "## Multi-class classification\n",
    "\n",
    "When there are more than two label classes, we need to adapt the logic of precision, recall, and the F1 score a little bit:\n",
    "To compute these metrics for one label class, we treat it as \"positive\" class and all other label classes as \"negative\".\n",
    "\n",
    "In this way we can compute label class-specific metrics and, as shown above, average them across classes in the macro and weigthed average scores."
   ]
  },
  {
   "cell_type": "code",
   "execution_count": 13,
   "id": "6c477608",
   "metadata": {},
   "outputs": [],
   "source": [
    "# construct observed (\"true\") and predicted (\"pred\") labels for three classes\n",
    "y_true = [0, 1, 1, 0, 1, 2, 0, 1, 2]\n",
    "y_pred = [0, 2, 1, 0, 2, 1, 0, 0, 2]"
   ]
  },
  {
   "cell_type": "code",
   "execution_count": 14,
   "id": "881b4012",
   "metadata": {},
   "outputs": [
    {
     "name": "stdout",
     "output_type": "stream",
     "text": [
      "              precision    recall  f1-score   support\n",
      "\n",
      "     Class 0       0.75      1.00      0.86         3\n",
      "     Class 1       0.50      0.25      0.33         4\n",
      "     Class 3       0.33      0.50      0.40         2\n",
      "\n",
      "    accuracy                           0.56         9\n",
      "   macro avg       0.53      0.58      0.53         9\n",
      "weighted avg       0.55      0.56      0.52         9\n",
      "\n"
     ]
    }
   ],
   "source": [
    "print(classification_report(y_true, y_pred, target_names=[\"Class 0\", \"Class 1\", \"Class 3\"]))"
   ]
  },
  {
   "cell_type": "markdown",
   "id": "58587292",
   "metadata": {},
   "source": [
    "You can verify this as follows:\n",
    "\n",
    "- for label class 0, there are three examples. The predictions are correct for all of them (&rArr; recall = 1.00) although one predicted \"0\" is actually a \"1\" (&rArr; precision = 0.75)\n",
    "- for label class 1, there are four examples. The predictions are correct for one of them (&rArr; recall = 0.25). And only one out of two times a \"1\" is predicted this is correct (&rArr; precision = 0.50)\n",
    "- for label class 2, there are two examples. The predictions are correct for one of them (&rArr; recall = 0.50). But only one out of three times a \"2\" is predicted this is correct (&rArr; precision = 0.33)\n",
    "- if we just ask what's the share of correctly classified examples (accuracy), the answer is 56%: the first, second, and third \"0\"; the first \"1\"; and the last \"2\" (i.e., 5 out of 9) "
   ]
  }
 ],
 "metadata": {
  "kernelspec": {
   "display_name": "llm_text_annotation",
   "language": "python",
   "name": "python3"
  },
  "language_info": {
   "codemirror_mode": {
    "name": "ipython",
    "version": 3
   },
   "file_extension": ".py",
   "mimetype": "text/x-python",
   "name": "python",
   "nbconvert_exporter": "python",
   "pygments_lexer": "ipython3",
   "version": "3.11.7"
  }
 },
 "nbformat": 4,
 "nbformat_minor": 5
}
