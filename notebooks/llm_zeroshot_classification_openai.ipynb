{
 "cells": [
  {
   "cell_type": "markdown",
   "id": "025017f5",
   "metadata": {},
   "source": [
    "# Zero-shot text classification with OpenAI's GPT models\n",
    "\n",
    "This notebook illustrates how to use different GPT models provided by OpenAI for text classification."
   ]
  },
  {
   "cell_type": "code",
   "execution_count": 1,
   "id": "da313a2e",
   "metadata": {},
   "outputs": [],
   "source": [
    "import os\n",
    "from dotenv import load_dotenv\n",
    "from openai import OpenAI\n",
    "\n",
    "import re"
   ]
  },
  {
   "cell_type": "code",
   "execution_count": 2,
   "id": "86883713",
   "metadata": {},
   "outputs": [],
   "source": [
    "load_dotenv()\n",
    "client = OpenAI(api_key=os.environ.get(\"OPENAI_API_KEY\"))"
   ]
  },
  {
   "cell_type": "markdown",
   "id": "b3e11918",
   "metadata": {},
   "source": [
    "## Define the task\n",
    "\n",
    "In this example, we adapt the instruction for one of the tweet classification tasks examined in Gilardi et al. ([2023](https://www.pnas.org/doi/10.1073/pnas.2305016120)) \"ChatGPT outperforms crowd workers for text-annotation tasks\"\n",
    "\n",
    "- see [this README file](../data/labeled/gilardi_chatgpt_2023/README.md) for a description of the data and tasks covered in the paper\n",
    "- see [this file](../data/labeled/gilardi_chatgpt_2023/instructions.md) for a copy of their original task instructions"
   ]
  },
  {
   "cell_type": "code",
   "execution_count": 3,
   "id": "86c19a4e",
   "metadata": {},
   "outputs": [],
   "source": [
    "instructions = \"\"\"\n",
    "For each tweet in the sample, follow these instructions:\n",
    "\n",
    "1. Carefully read the text of the tweet, paying close attention to details.\n",
    "2. Classify the tweet as either relevant (1) or irrelevant (0)\n",
    "\"\"\"\n",
    "\n",
    "categories = [\"Relevant\", \"Irrelevant\"]\n",
    "\n",
    "defintions = \"\"\"\n",
    "Tweets should be coded as RELEVANT when they directly relate to content moderation, as defined above. This includes tweets that discuss: social media platforms’ content moderation rules and practices, governments’ regulation of online content moderation, and/or mild forms of content moderation like flagging.\n",
    "Tweets should be coded as IRRELEVANT if they do not refer to content moderation, as defined above, or if they are themselves examples of moderated content. This would include, for example, a Tweet by Donald Trump that Twitter has labeled as “disputed”, a tweet claiming that something is false, or a tweet containing sensitive content. Such tweets might be subject to content moderation, but are not discussing content moderation. Therefore, they should be coded as irrelevant for our purposes.\n",
    "\"\"\""
   ]
  },
  {
   "cell_type": "code",
   "execution_count": 4,
   "id": "e1b2477c",
   "metadata": {},
   "outputs": [],
   "source": [
    "texts = [\n",
    "    # negative examples (\"irrelevant\")\n",
    "    \"\\\"Turns out Mike Bloomberg is exactly what Elizabeth Warren needed to break through in the 2020 Democratic primary. And he’s not just a foil for her on the campaign trail — this is something she believes in, and it shows.\\\" https://t.co/1SyaHXrZlO\",\n",
    "    \"@blackhat___05 ye raha new user name change kiya kamine ne😡🗡️😡🗡️😡🗡️😡 karo abhi FNfollow reopt aur block\",\n",
    "    \"The Kid!\\n \\nRETWEET for a chance at a @RawlingsSports baseball signed by Ken Griffey Jr. and tune in to #Junior tonight at 8pm ET/5pm PT on MLB Network.\\n \\nRules: https://t.co/MdkXLh1CdN | NoPurNec, US 18+, Ends 6/22 https://t.co/8Xw0HpHz2G\",\n",
    "    \"TW / gore \\n\\nif you come across an account and want to block them, make sure to cover the bottom half of your screen. the gore is normally at the bottom of the screen. again, stay safe, and take precaution\",\n",
    "    \"@Godlesswh_re Blocked.  Is this another Nick account?\",\n",
    "    # positive examples (\"relevant\")\n",
    "    \"Twitter we want you to suspend Marcon's account.\\n#twitterSuspendMacronAccount #TwitterSuspendMarcon @verified @Twitter @TwitterSupport\",\n",
    "    \"Twitter needs to permanently suspend @realDonaldTrump account.  Who's with me?\",\n",
    "    \"Toei is one of the most active reporters of content on Youtube and everything runs through an auto filter. Today, Toei dropped a ridiculous volume of their own series onto an official Youtube channel and GOT BANNED AND REPORTED BY THEMSELVES, TOEI.\",\n",
    "    \"Marsha Blackburn: We Are Looking at Antitrust Laws and Section 230 on Tech Censorship https://t.co/lsOWzD0Yri\",\n",
    "    \"#Facebook has banned the iconic photograph of a #Soviet solider waving the #USSR flag over the #Reichstag in May 1945. The social network claims the image violates its community guidelines for dangerous people and organizations...\\n\\nMORE: https://t.co/arpDN9Ss0P https://t.co/KGtGwE4D5J\"\n",
    "]"
   ]
  },
  {
   "cell_type": "markdown",
   "id": "9773717a",
   "metadata": {},
   "source": [
    "## With ChatGPT"
   ]
  },
  {
   "cell_type": "code",
   "execution_count": 10,
   "id": "c9cc8055",
   "metadata": {},
   "outputs": [],
   "source": [
    "MODEL = 'gpt-4o-2024-08-06' # currently the latest version of GPT-4o"
   ]
  },
  {
   "cell_type": "code",
   "execution_count": 7,
   "id": "02dde969",
   "metadata": {},
   "outputs": [
    {
     "name": "stdout",
     "output_type": "stream",
     "text": [
      "Classify the following text into one of the given categories: ['Relevant', 'Irrelevant']\n",
      "\n",
      "Tweets should be coded as RELEVANT when they directly relate to content moderation, as defined above. This includes tweets that discuss: social media platforms’ content moderation rules and practices, governments’ regulation of online content moderation, and/or mild forms of content moderation like flagging.\n",
      "Tweets should be coded as IRRELEVANT if they do not refer to content moderation, as defined above, or if they are themselves examples of moderated content. This would include, for example, a Tweet by Donald Trump that Twitter has labeled as “disputed”, a tweet claiming that something is false, or a tweet containing sensitive content. Such tweets might be subject to content moderation, but are not discussing content moderation. Therefore, they should be coded as irrelevant for our purposes.\n",
      "\n",
      "Only include the selected category in your response and no further text.\n"
     ]
    }
   ],
   "source": [
    "# Let's format the prompt\n",
    "prompt = f\"Classify the following text into one of the given categories: {categories}\\n{defintions}\\nOnly include the selected category in your response and no further text.\"\n",
    "print(prompt)"
   ]
  },
  {
   "cell_type": "markdown",
   "id": "1a7520f9",
   "metadata": {},
   "source": [
    "### A single text example"
   ]
  },
  {
   "cell_type": "code",
   "execution_count": 8,
   "id": "ed4861eb",
   "metadata": {},
   "outputs": [],
   "source": [
    "text_input = texts[0]"
   ]
  },
  {
   "cell_type": "code",
   "execution_count": 9,
   "id": "647308d5",
   "metadata": {},
   "outputs": [],
   "source": [
    "# convert to conversation history\n",
    "messages = [\n",
    "  # system prompt\n",
    "  {\"role\": \"system\", \"content\": prompt},\n",
    "  # user input\n",
    "  {\"role\": \"user\", \"content\": text_input},\n",
    "]"
   ]
  },
  {
   "cell_type": "code",
   "execution_count": 11,
   "id": "f2189ede",
   "metadata": {},
   "outputs": [],
   "source": [
    "response = client.chat.completions.create(\n",
    "  model=MODEL,\n",
    "  messages=messages,\n",
    "  # for reproducibility\n",
    "  temperature=0.0,\n",
    "  seed=42,\n",
    ")"
   ]
  },
  {
   "cell_type": "code",
   "execution_count": 12,
   "id": "c6cc4b18",
   "metadata": {},
   "outputs": [
    {
     "data": {
      "text/plain": [
       "'Irrelevant'"
      ]
     },
     "execution_count": 12,
     "metadata": {},
     "output_type": "execute_result"
    }
   ],
   "source": [
    "# parse the response\n",
    "response.choices[0].message.content"
   ]
  },
  {
   "cell_type": "markdown",
   "id": "6596973d",
   "metadata": {},
   "source": [
    "### Iterate over multiple examples"
   ]
  },
  {
   "cell_type": "markdown",
   "id": "5373b62c",
   "metadata": {},
   "source": [
    "Let's first define a custom function to classify tweets:"
   ]
  },
  {
   "cell_type": "code",
   "execution_count": 13,
   "id": "7fb21f0c",
   "metadata": {},
   "outputs": [],
   "source": [
    "def classify_tweet(text, system_message, model):\n",
    "\n",
    "  # clean the text \n",
    "  text = re.sub(r'\\s+', ' ', text).strip()\n",
    "\n",
    "  # construct input\n",
    "\n",
    "  messages = [\n",
    "    # system prompt\n",
    "    {\"role\": \"system\", \"content\": system_message},\n",
    "    # user input\n",
    "    {\"role\": \"user\", \"content\": text},\n",
    "  ]\n",
    "\n",
    "  response = client.chat.completions.create(\n",
    "    model=model,\n",
    "    messages=messages,\n",
    "    temperature=0.0,\n",
    "    seed=42\n",
    "  )\n",
    "  \n",
    "  result = response.choices[0].message.content\n",
    "  \n",
    "  return result\n",
    "\n"
   ]
  },
  {
   "cell_type": "markdown",
   "id": "c6788aed",
   "metadata": {},
   "source": [
    "Now we can iterate over example texts:"
   ]
  },
  {
   "cell_type": "code",
   "execution_count": 17,
   "id": "6bee84cd",
   "metadata": {},
   "outputs": [
    {
     "data": {
      "text/plain": [
       "['Irrelevant',\n",
       " 'Irrelevant',\n",
       " 'Irrelevant',\n",
       " 'Irrelevant',\n",
       " 'Irrelevant',\n",
       " 'Relevant',\n",
       " 'Irrelevant',\n",
       " 'Irrelevant',\n",
       " 'Relevant',\n",
       " 'Relevant']"
      ]
     },
     "execution_count": 17,
     "metadata": {},
     "output_type": "execute_result"
    }
   ],
   "source": [
    "# with GPT 3.5 turbo (legacy)\n",
    "classifications_gpt35 = [classify_tweet(text, prompt, model='gpt-3.5-turbo-0125') for text in texts]\n",
    "classifications_gpt35"
   ]
  },
  {
   "cell_type": "markdown",
   "id": "2713ab25",
   "metadata": {},
   "source": [
    "- 5/5 negative examples classified correctly\n",
    "- 3/5 positive examples classified correctly"
   ]
  },
  {
   "cell_type": "code",
   "execution_count": 15,
   "id": "91749508",
   "metadata": {},
   "outputs": [
    {
     "data": {
      "text/plain": [
       "['Irrelevant',\n",
       " 'Irrelevant',\n",
       " 'Irrelevant',\n",
       " 'Irrelevant',\n",
       " 'Irrelevant',\n",
       " 'Irrelevant',\n",
       " 'Irrelevant',\n",
       " 'Relevant',\n",
       " 'Relevant',\n",
       " 'Relevant']"
      ]
     },
     "execution_count": 15,
     "metadata": {},
     "output_type": "execute_result"
    }
   ],
   "source": [
    "# with GPT 4 turbo\n",
    "classifications_gpt4 = [classify_tweet(text, prompt, model='gpt-4-turbo-2024-04-09') for text in texts]\n",
    "classifications_gpt4"
   ]
  },
  {
   "cell_type": "markdown",
   "id": "5c62c60f",
   "metadata": {},
   "source": [
    "- 5/5 negative examples classified correctly\n",
    "- 3/5 positive examples classified correctly\n",
    "- but disagreement with GPT 3.5 turbo on 2/5 positive examples"
   ]
  },
  {
   "cell_type": "code",
   "execution_count": 16,
   "id": "22799dc3",
   "metadata": {},
   "outputs": [
    {
     "data": {
      "text/plain": [
       "['Irrelevant',\n",
       " 'Irrelevant',\n",
       " 'Irrelevant',\n",
       " 'Irrelevant',\n",
       " 'Irrelevant',\n",
       " 'Irrelevant',\n",
       " 'Irrelevant',\n",
       " 'Relevant',\n",
       " 'Relevant',\n",
       " 'Relevant']"
      ]
     },
     "execution_count": 16,
     "metadata": {},
     "output_type": "execute_result"
    }
   ],
   "source": [
    "# with GPT 4o turbo\n",
    "classifications_gpt4o = [classify_tweet(text, prompt, model=MODEL) for text in texts]\n",
    "classifications_gpt4o"
   ]
  },
  {
   "cell_type": "markdown",
   "id": "be5199c7",
   "metadata": {},
   "source": [
    "- 5/5 negative examples classified correctly\n",
    "- 3/5 positive examples classified correctly\n",
    "- perfect agreement wiht GPT 4 turbo\n",
    "- but disagreement with GPT 3.5 turbo on 2/5 positive examples"
   ]
  },
  {
   "cell_type": "markdown",
   "id": "81bf76d3",
   "metadata": {},
   "source": [
    "## Multiple inputs per request\n",
    "\n",
    "In theory, we can also combine several texts in one user message.\n",
    "\n",
    "But as demonstrated below, this can cause problems, because classifications will depend on the order of texts in the input."
   ]
  },
  {
   "cell_type": "code",
   "execution_count": 18,
   "id": "f86e7b3a",
   "metadata": {},
   "outputs": [],
   "source": [
    "from typing import List\n",
    "\n",
    "def classify_tweets(texts: List[str], model: str):\n",
    "\n",
    "  # clean the text \n",
    "  texts = [re.sub(r'\\s+', ' ', text).strip() for text in texts]\n",
    "\n",
    "  # construct input\n",
    "\n",
    "  messages = [\n",
    "    # system prompt (modified to handle multiple inputs)\n",
    "    {\"role\": \"system\", \"content\": (\n",
    "      \"Act as a text classification system. \"\n",
    "      \"Each line in the input is a separate tweet. \"\n",
    "      f\"Classify each tweet into one of the given categories: {categories}\\n{defintions}\\n\"\n",
    "      \"Only include the selected category in your response and no further text. \"\n",
    "      \"Seperate the classifications of individual tweet by newline characters.\"\n",
    "    )},\n",
    "    # user input\n",
    "    {\"role\": \"user\", \"content\": \"\\n\".join(texts)},\n",
    "  ]\n",
    "\n",
    "  response = client.chat.completions.create(\n",
    "    model=model,\n",
    "    messages=messages,\n",
    "    temperature=0.0,\n",
    "    seed=42,\n",
    "    frequency_penalty=0,\n",
    "    presence_penalty=0\n",
    "  )\n",
    "  \n",
    "  result = response.choices[0].message.content\n",
    "  \n",
    "  return result.split(\"\\n\")"
   ]
  },
  {
   "cell_type": "code",
   "execution_count": 19,
   "id": "148f995f",
   "metadata": {},
   "outputs": [
    {
     "data": {
      "text/plain": [
       "(10, 9)"
      ]
     },
     "execution_count": 19,
     "metadata": {},
     "output_type": "execute_result"
    }
   ],
   "source": [
    "classifications = classify_tweets(texts, model=MODEL)"
   ]
  },
  {
   "cell_type": "code",
   "execution_count": 23,
   "id": "7b0b9ddb",
   "metadata": {},
   "outputs": [
    {
     "data": {
      "text/plain": [
       "(10, 9)"
      ]
     },
     "execution_count": 23,
     "metadata": {},
     "output_type": "execute_result"
    }
   ],
   "source": [
    "# but this can lead to erreneous outputs\n",
    "len(texts), len(classifications) # one missing"
   ]
  },
  {
   "cell_type": "code",
   "execution_count": 24,
   "id": "ea7732d0",
   "metadata": {},
   "outputs": [
    {
     "data": {
      "application/vnd.jupyter.widget-view+json": {
       "model_id": "23cd4d037f134a15bf0dd2e2913c3912",
       "version_major": 2,
       "version_minor": 0
      },
      "text/plain": [
       "Iteration:   0%|          | 0/5 [00:00<?, ?it/s]"
      ]
     },
     "metadata": {},
     "output_type": "display_data"
    }
   ],
   "source": [
    "from tqdm.auto import tqdm\n",
    "# create a list of indexes from 0-9 and reshuffle it\n",
    "import random\n",
    "idxs = list(range(10))\n",
    "\n",
    "# set the seed\n",
    "random.seed(42)\n",
    "\n",
    "results = []\n",
    "n_iter = 5\n",
    "for i in tqdm(range(n_iter), total=n_iter, desc=\"Iteration\"):\n",
    "    random.shuffle(idxs)\n",
    "    inputs = [texts[i] for i in idxs]\n",
    "    outputs = classify_tweets(inputs, model=MODEL)\n",
    "    sorted_outputs = [c for _, c in sorted(zip(idxs, outputs))]\n",
    "    results.append(sorted_outputs)"
   ]
  },
  {
   "cell_type": "code",
   "execution_count": 25,
   "id": "7cf426fe",
   "metadata": {},
   "outputs": [
    {
     "data": {
      "text/html": [
       "<div>\n",
       "<style scoped>\n",
       "    .dataframe tbody tr th:only-of-type {\n",
       "        vertical-align: middle;\n",
       "    }\n",
       "\n",
       "    .dataframe tbody tr th {\n",
       "        vertical-align: top;\n",
       "    }\n",
       "\n",
       "    .dataframe thead th {\n",
       "        text-align: right;\n",
       "    }\n",
       "</style>\n",
       "<table border=\"1\" class=\"dataframe\">\n",
       "  <thead>\n",
       "    <tr style=\"text-align: right;\">\n",
       "      <th></th>\n",
       "      <th>text01</th>\n",
       "      <th>text02</th>\n",
       "      <th>text03</th>\n",
       "      <th>text04</th>\n",
       "      <th>text05</th>\n",
       "      <th>text06</th>\n",
       "      <th>text07</th>\n",
       "      <th>text08</th>\n",
       "      <th>text09</th>\n",
       "      <th>text10</th>\n",
       "    </tr>\n",
       "  </thead>\n",
       "  <tbody>\n",
       "    <tr>\n",
       "      <th>0</th>\n",
       "      <td>Irrelevant</td>\n",
       "      <td>Irrelevant</td>\n",
       "      <td>Irrelevant</td>\n",
       "      <td>Irrelevant</td>\n",
       "      <td>Relevant</td>\n",
       "      <td>Relevant</td>\n",
       "      <td>Relevant</td>\n",
       "      <td>Relevant</td>\n",
       "      <td>Irrelevant</td>\n",
       "      <td>None</td>\n",
       "    </tr>\n",
       "    <tr>\n",
       "      <th>1</th>\n",
       "      <td>Irrelevant</td>\n",
       "      <td>Irrelevant</td>\n",
       "      <td>Irrelevant</td>\n",
       "      <td>Irrelevant</td>\n",
       "      <td>Irrelevant</td>\n",
       "      <td>Irrelevant</td>\n",
       "      <td>Irrelevant</td>\n",
       "      <td>Relevant</td>\n",
       "      <td>Relevant</td>\n",
       "      <td>Relevant</td>\n",
       "    </tr>\n",
       "    <tr>\n",
       "      <th>2</th>\n",
       "      <td>Irrelevant</td>\n",
       "      <td>Irrelevant</td>\n",
       "      <td>Irrelevant</td>\n",
       "      <td>Irrelevant</td>\n",
       "      <td>Irrelevant</td>\n",
       "      <td>Relevant</td>\n",
       "      <td>Irrelevant</td>\n",
       "      <td>Relevant</td>\n",
       "      <td>Relevant</td>\n",
       "      <td>None</td>\n",
       "    </tr>\n",
       "    <tr>\n",
       "      <th>3</th>\n",
       "      <td>Irrelevant</td>\n",
       "      <td>Relevant</td>\n",
       "      <td>Irrelevant</td>\n",
       "      <td>Irrelevant</td>\n",
       "      <td>Irrelevant</td>\n",
       "      <td>Relevant</td>\n",
       "      <td>Relevant</td>\n",
       "      <td>Relevant</td>\n",
       "      <td>Relevant</td>\n",
       "      <td>None</td>\n",
       "    </tr>\n",
       "    <tr>\n",
       "      <th>4</th>\n",
       "      <td>Irrelevant</td>\n",
       "      <td>Irrelevant</td>\n",
       "      <td>Irrelevant</td>\n",
       "      <td>Irrelevant</td>\n",
       "      <td>Irrelevant</td>\n",
       "      <td>Irrelevant</td>\n",
       "      <td>Relevant</td>\n",
       "      <td>Relevant</td>\n",
       "      <td>Relevant</td>\n",
       "      <td>None</td>\n",
       "    </tr>\n",
       "  </tbody>\n",
       "</table>\n",
       "</div>"
      ],
      "text/plain": [
       "         text01        text02        text03        text04        text05  \\\n",
       "0    Irrelevant  Irrelevant    Irrelevant    Irrelevant      Relevant     \n",
       "1  Irrelevant      Irrelevant  Irrelevant    Irrelevant    Irrelevant     \n",
       "2  Irrelevant    Irrelevant    Irrelevant    Irrelevant    Irrelevant     \n",
       "3  Irrelevant        Relevant  Irrelevant    Irrelevant    Irrelevant     \n",
       "4  Irrelevant    Irrelevant    Irrelevant    Irrelevant    Irrelevant     \n",
       "\n",
       "         text06        text07      text08        text09      text10  \n",
       "0    Relevant      Relevant    Relevant    Irrelevant          None  \n",
       "1  Irrelevant    Irrelevant    Relevant      Relevant    Relevant    \n",
       "2      Relevant  Irrelevant    Relevant      Relevant          None  \n",
       "3    Relevant      Relevant    Relevant      Relevant          None  \n",
       "4  Irrelevant      Relevant    Relevant        Relevant        None  "
      ]
     },
     "execution_count": 25,
     "metadata": {},
     "output_type": "execute_result"
    }
   ],
   "source": [
    "import pandas as pd\n",
    "\n",
    "pd.DataFrame(results, columns=[f\"text{i:02d}\" for i , _ in enumerate(texts, start=1)])"
   ]
  },
  {
   "cell_type": "markdown",
   "id": "3e9c705e",
   "metadata": {},
   "source": [
    "As you can see, \n",
    "\n",
    "- in four of five attempts, the model outputs one classification too few, and\n",
    "- the classifications of some texts are sensitive to the order of texts in the input 🤷‍♂️ (e.g., 2 and 5)"
   ]
  },
  {
   "cell_type": "markdown",
   "id": "ef91d4fe",
   "metadata": {},
   "source": [
    "# Appendix"
   ]
  },
  {
   "cell_type": "markdown",
   "id": "7ffe0ccc",
   "metadata": {},
   "source": [
    "## Legacy: Example with text generation model"
   ]
  },
  {
   "cell_type": "code",
   "execution_count": null,
   "id": "0a2262d3",
   "metadata": {},
   "outputs": [],
   "source": [
    "\n",
    "text = \"@connybush Sorry hun, Ive removed the tags on IG d person handling my account thought you are my friend dats why u were tagged on both posts.\"\n",
    "\n",
    "# clean the text \n",
    "text = re.sub(r'\\s+', ' ', text).strip()\n",
    "\n",
    "prompt = f\"Classify the following text into one of the given categories: {categories}\\n{defintions}\\nOnly include the selected category in your response and no further text.\\n\\nText: {text}\\n\\nClassification:\""
   ]
  },
  {
   "cell_type": "code",
   "execution_count": null,
   "id": "a66685b2",
   "metadata": {},
   "outputs": [
    {
     "name": "stdout",
     "output_type": "stream",
     "text": [
      "Classify the following text into one of the given categories: ['Relevant', 'Irrelevant']\n",
      "\n",
      "Tweets should be coded as RELEVANT when they directly relate to content moderation, as defined above. This includes tweets that discuss: social media platforms’ content moderation rules and practices, governments’ regulation of online content moderation, and/or mild forms of content moderation like flagging.\n",
      "Tweets should be coded as IRRELEVANT if they do not refer to content moderation, as defined above, or if they are themselves examples of moderated content. This would include, for example, a Tweet by Donald Trump that Twitter has labeled as “disputed”, a tweet claiming that something is false, or a tweet containing sensitive content. Such tweets might be subject to content moderation, but are not discussing content moderation. Therefore, they should be coded as irrelevant for our purposes.\n",
      "\n",
      "Only include the selected category in your response and no further text.\n",
      "\n",
      "Text: @connybush Sorry hun, Ive removed the tags on IG d person handling my account thought you are my friend dats why u were tagged on both posts.\n",
      "\n",
      "Classification:\n"
     ]
    }
   ],
   "source": [
    "print(prompt)"
   ]
  },
  {
   "cell_type": "markdown",
   "id": "42c40f93",
   "metadata": {},
   "source": [
    "### Make the API Call"
   ]
  },
  {
   "cell_type": "code",
   "execution_count": null,
   "id": "61958835",
   "metadata": {},
   "outputs": [],
   "source": [
    "response = client.completions.create(\n",
    "  model=\"davinci-002\",\n",
    "  prompt=prompt,\n",
    "  max_tokens=2,\n",
    "  top_p=1,\n",
    "  temperature=0.0,\n",
    "  seed=42,\n",
    "  frequency_penalty=0,\n",
    "  presence_penalty=0\n",
    ")"
   ]
  },
  {
   "cell_type": "markdown",
   "id": "0c022f72",
   "metadata": {},
   "source": [
    "### Parse the result"
   ]
  },
  {
   "cell_type": "code",
   "execution_count": null,
   "id": "dbcdbc80",
   "metadata": {},
   "outputs": [
    {
     "data": {
      "text/plain": [
       "'Relevant'"
      ]
     },
     "metadata": {},
     "output_type": "display_data"
    }
   ],
   "source": [
    "result = response.choices[0].text.strip()\n",
    "result"
   ]
  },
  {
   "cell_type": "markdown",
   "id": "1edc3eaa",
   "metadata": {},
   "source": [
    "### Iterate over several examples"
   ]
  },
  {
   "cell_type": "code",
   "execution_count": null,
   "id": "2db583c5",
   "metadata": {},
   "outputs": [],
   "source": [
    "def classify_tweet(text):\n",
    "\n",
    "  # clean the text \n",
    "  text = re.sub(r'\\s+', ' ', text).strip()\n",
    "\n",
    "  # construct the prompt\n",
    "  prompt = f\"Classify the following text into one of the given categories: {categories}\\n{defintions}\\nOnly include the selected category in your response and no further text.\\n\\nText: {text}\\n\\nClassification:\"\n",
    "  \n",
    "  response = client.completions.create(\n",
    "    model=\"davinci-002\",\n",
    "    prompt=prompt,\n",
    "    max_tokens=2,\n",
    "    top_p=1,\n",
    "    temperature=0.0,\n",
    "    seed=42,\n",
    "    frequency_penalty=0,\n",
    "    presence_penalty=0\n",
    "  )\n",
    "  \n",
    "  result = response.choices[0].text.strip()\n",
    "  \n",
    "  return result"
   ]
  },
  {
   "cell_type": "code",
   "execution_count": null,
   "id": "2eca5eac",
   "metadata": {},
   "outputs": [],
   "source": []
  },
  {
   "cell_type": "code",
   "execution_count": null,
   "id": "69c16a02",
   "metadata": {},
   "outputs": [],
   "source": [
    "classifications = [classify_tweet(text) for text in texts]"
   ]
  },
  {
   "cell_type": "code",
   "execution_count": null,
   "id": "f7ce3b3f",
   "metadata": {},
   "outputs": [
    {
     "data": {
      "text/plain": [
       "['Relevant',\n",
       " 'Relevant',\n",
       " 'Relevant',\n",
       " 'Relevant',\n",
       " 'RELEV',\n",
       " 'Relevant',\n",
       " 'Relevant',\n",
       " 'Relevant',\n",
       " 'Relevant',\n",
       " 'Relevant']"
      ]
     },
     "metadata": {},
     "output_type": "display_data"
    }
   ],
   "source": [
    "classifications"
   ]
  },
  {
   "cell_type": "markdown",
   "id": "c84ebffd",
   "metadata": {},
   "source": [
    "This doesn't look great =(\n",
    "\n",
    "Let's try GPT 3.5 turbo and GPT 4 instead 👇"
   ]
  }
 ],
 "metadata": {
  "kernelspec": {
   "display_name": "llm_text_annotation",
   "language": "python",
   "name": "python3"
  },
  "language_info": {
   "codemirror_mode": {
    "name": "ipython",
    "version": 3
   },
   "file_extension": ".py",
   "mimetype": "text/x-python",
   "name": "python",
   "nbconvert_exporter": "python",
   "pygments_lexer": "ipython3",
   "version": "3.11.9"
  }
 },
 "nbformat": 4,
 "nbformat_minor": 5
}
