{
 "cells": [
  {
   "cell_type": "markdown",
   "metadata": {},
   "source": [
    "## OpenAI's chat completions API\n",
    "\n",
    "| Authors | Last update |\n",
    "|:------ |:----------- |\n",
    "| Hauke Licht (https://github.com/haukelicht) | 2024-09-26 |\n",
    "\n",
    "\n",
    "OpenAI's chat models take a list of messages as input and return a model-generated message as output.\n",
    "The chat format is designed to make multi-turn conversations easy.\n",
    "But it is just as useful for single-turn tasks without any conversation."
   ]
  },
  {
   "cell_type": "markdown",
   "metadata": {},
   "source": [
    "### The message object\n",
    "\n",
    "The message message object records the contributions to a conversation in a [**list**](link):\n",
    "\n",
    "```json\n",
    "[\n",
    "    <first message>,\n",
    "    <second message>,\n",
    "    ...,\n",
    "    <last message>\n",
    "]\n",
    "```\n",
    "\n",
    "Each list element is a [**dictionary**](link) with elements **_role_** and **_content_**:\n",
    "\n",
    "```json\n",
    "{\n",
    "    \"role\": \"system\" | \"user\" | \"assistant\", // <== choose one\n",
    "    \"content\": <string> // <== insert text\n",
    "}\n",
    "```"
   ]
  },
  {
   "cell_type": "markdown",
   "metadata": {},
   "source": [
    "##### *Example*\n",
    "\n",
    "Below, we mimic the tweet sentiment classifier in OpenAI's playground:"
   ]
  },
  {
   "cell_type": "code",
   "execution_count": 1,
   "metadata": {},
   "outputs": [],
   "source": [
    "instructions = \"\"\"\n",
    "You will be provided with a tweet, and your task is to classify its sentiment as positive, neutral, or negative.\n",
    "\n",
    "Categorize the text enclosed in triple quotes into one of the following categories: \"positive\", \"neutral\", \"negative\"\n",
    "\"\"\"\n",
    "\n",
    "messages = [\n",
    "    {\n",
    "        \"role\": \"system\",\n",
    "        \"content\": instructions\n",
    "    },\n",
    "    {\n",
    "        \"role\": \"user\",\n",
    "        \"content\": \"I loved the new Batman movie!\"\n",
    "    },\n",
    "]"
   ]
  },
  {
   "cell_type": "markdown",
   "metadata": {},
   "source": [
    "#### Roles\n",
    "\n",
    "There are three **roles**:\n",
    "\n",
    "- **\"system\"**: a 'hidden' prompt to provide the model with relevant task-specific information.\n",
    "- **\"user\"**: the user who is sending inputs and requests to the model\n",
    "- **\"assistant\"**: the model who is responding to the user\n",
    "\n",
    "**_Note:_** When you use ChatGPT in the browser, you only see the messages send by you (the user) and the model's responses (the assistants message)."
   ]
  },
  {
   "cell_type": "markdown",
   "metadata": {},
   "source": [
    "Here is a typical chat conversation from a translation example:\n",
    "\n",
    "```json\n",
    "[\n",
    "    {\n",
    "        \"role\": \"system\",\n",
    "        \"content\": \"Act as a translation system that translates English texts to French\"\n",
    "    },\n",
    "    {\n",
    "        \"role\": \"user\",\n",
    "        \"content\": \"Hello, how are you?\"\n",
    "    },\n",
    "    {\n",
    "        \"role\": \"assistant\",\n",
    "        \"content\": \"Bonjour, comment vas-tu?\"\n",
    "    }\n",
    "]\n",
    "```"
   ]
  },
  {
   "cell_type": "markdown",
   "metadata": {},
   "source": [
    "#### The system message\n",
    "\n",
    "The system message is only defined once at the beginning of a conversation.\n",
    "It provides the LLM (\"assistant\") with behavioral instructions.\n",
    "That is, it sets the behavior of the assistant.\n",
    "For example, you can modify the personality (\"persona\") of the assistant or provide specific instructions about how it should behave throughout the conversation.\n",
    "\n",
    "Note, however that the system message is optional.\n",
    "The model's behavior without a system message is likely to be similar to using a generic message such as \"You are a helpful assistant.\""
   ]
  },
  {
   "cell_type": "markdown",
   "metadata": {},
   "source": [
    "#### User and assistant messages\n",
    "\n",
    "After the system message, conversations can be as short as one message or include many back and forth turns between the user and the assistant.\n",
    "The user messages provide requests or comments for the assistant to respond to.\n",
    "If after the system message you only include one user message, the model will return an assistant message &mdash; the model's response to the user's message (given the instructions in the system message).\n",
    "\n",
    "But as assistant messages store previous assistant responses, you can also write them to give examples of desired behavior.\n",
    "Including conversation history is important when user instructions refer to prior messages.\n",
    "Because chat models have no memory of past requests, all relevant information must be supplied as part of the conversation history in each request."
   ]
  },
  {
   "cell_type": "markdown",
   "metadata": {},
   "source": [
    "### Requesting a chat completion\n",
    "\n",
    "The way you use the chat completions API for text coding is by specifying a system prompt and a user input and requesting a model-generated assisant response.\n",
    "\n",
    "To allow communication with the OpenAI API, you first need to create a client that takes care of sending API requests and receiving responses:"
   ]
  },
  {
   "cell_type": "code",
   "execution_count": 2,
   "metadata": {},
   "outputs": [],
   "source": [
    "import os\n",
    "from dotenv import load_dotenv\n",
    "from openai import OpenAI\n",
    "\n",
    "client = OpenAI(api_key=os.getenv(\"OPENAI_API_KEY\"))"
   ]
  },
  {
   "cell_type": "markdown",
   "metadata": {},
   "source": [
    "Now we can define a message object and request a model-generated response:"
   ]
  },
  {
   "cell_type": "code",
   "execution_count": 3,
   "metadata": {},
   "outputs": [],
   "source": [
    "messages = [\n",
    "    {\n",
    "        \"role\": \"system\",\n",
    "        \"content\": \"Act as a translation system that translates English texts to French\"\n",
    "    },\n",
    "    {\n",
    "        \"role\": \"user\",\n",
    "        \"content\": \"Hello, how are you?\"\n",
    "    }\n",
    "]"
   ]
  },
  {
   "cell_type": "markdown",
   "metadata": {},
   "source": [
    "Together with the identifier of the model we want to ask for a response, we send the message object to the API and receive a response from the model: "
   ]
  },
  {
   "cell_type": "code",
   "execution_count": 5,
   "metadata": {},
   "outputs": [],
   "source": [
    "response = client.chat.completions.create(\n",
    "    model=\"gpt-4o\",\n",
    "    messages=messages\n",
    ")"
   ]
  },
  {
   "cell_type": "markdown",
   "metadata": {},
   "source": [
    "The `response` object returned by calling `chat.completion.create` is a little complex.\n",
    "The relevant information is stored in the `choices` list, which contains a single element by default:"
   ]
  },
  {
   "cell_type": "code",
   "execution_count": 6,
   "metadata": {},
   "outputs": [
    {
     "data": {
      "text/plain": [
       "Choice(finish_reason='stop', index=0, logprobs=None, message=ChatCompletionMessage(content='Bonjour, comment ça va ?', refusal=None, role='assistant', function_call=None, tool_calls=None))"
      ]
     },
     "execution_count": 6,
     "metadata": {},
     "output_type": "execute_result"
    }
   ],
   "source": [
    "response.choices[0]"
   ]
  },
  {
   "cell_type": "markdown",
   "metadata": {},
   "source": [
    "As you can see, this is a `Choices` object that contains, among others, a `message` atttribute that contains the content of the assistant's response:"
   ]
  },
  {
   "cell_type": "code",
   "execution_count": 7,
   "metadata": {},
   "outputs": [
    {
     "data": {
      "text/plain": [
       "'Bonjour, comment ça va ?'"
      ]
     },
     "execution_count": 7,
     "metadata": {},
     "output_type": "execute_result"
    }
   ],
   "source": [
    "response.choices[0].message.content"
   ]
  },
  {
   "cell_type": "markdown",
   "metadata": {},
   "source": [
    "#### Text classification example\n",
    "\n",
    "In our applications, we apply this logic to task a GPT model to classify texts according to our coding instructions and coding scheme."
   ]
  },
  {
   "cell_type": "code",
   "execution_count": 8,
   "metadata": {},
   "outputs": [
    {
     "data": {
      "text/plain": [
       "'positive'"
      ]
     },
     "execution_count": 8,
     "metadata": {},
     "output_type": "execute_result"
    }
   ],
   "source": [
    "messages = [ \n",
    "    # system prompt: coding instruction and specify coding scheme\n",
    "    {\n",
    "        \"role\": \"system\", \n",
    "        \"content\": (\n",
    "            \"Act as a sentiment classification system that classifies the sentiment of a given text. \"\n",
    "            \"Classify the text in the input into one of the following categories: positive, negative, neutral. \"\n",
    "            \"Only respond with the chosen category and no further text.\"\n",
    "        )\n",
    "    },\n",
    "    # user prompt: a single text to be classified\n",
    "    {\"role\": \"user\", \"content\": \"I am so happy today!\"}\n",
    "]\n",
    "\n",
    "response = client.chat.completions.create(\n",
    "    model=\"gpt-4o\",\n",
    "    messages=messages\n",
    ")\n",
    "\n",
    "response.choices[0].message.content"
   ]
  },
  {
   "cell_type": "code",
   "execution_count": 11,
   "metadata": {},
   "outputs": [
    {
     "data": {
      "text/plain": [
       "'Positive'"
      ]
     },
     "execution_count": 11,
     "metadata": {},
     "output_type": "execute_result"
    }
   ],
   "source": [
    "instructions = \"\"\"\n",
    "You will be provided with a tweet, and your task is to classify its sentiment as positive, neutral, or negative.\n",
    "\n",
    "Categorize the text enclosed in triple quotes into one of the following categories: positive, neutral, negative\n",
    "\"\"\"\n",
    "\n",
    "text = \"I loved the new Batman movie!\"\n",
    "messages = [ \n",
    "    {\n",
    "        \"role\": \"system\", \n",
    "        \"content\": instructions # <== copy-paste your custom instructions here\n",
    "    },\n",
    "    {\"role\": \"user\", \"content\": f\"'''{text}'''\"} # <== copy-paste your text here\n",
    "]\n",
    "\n",
    "response = client.chat.completions.create(\n",
    "    model=\"gpt-4o\",\n",
    "    messages=messages\n",
    ")\n",
    "\n",
    "response.choices[0].message.content"
   ]
  }
 ],
 "metadata": {
  "kernelspec": {
   "display_name": "llm_text_annotation",
   "language": "python",
   "name": "python3"
  },
  "language_info": {
   "codemirror_mode": {
    "name": "ipython",
    "version": 3
   },
   "file_extension": ".py",
   "mimetype": "text/x-python",
   "name": "python",
   "nbconvert_exporter": "python",
   "pygments_lexer": "ipython3",
   "version": "3.11.9"
  }
 },
 "nbformat": 4,
 "nbformat_minor": 2
}
