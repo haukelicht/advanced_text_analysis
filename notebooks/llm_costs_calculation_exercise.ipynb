{
 "cells": [
  {
   "cell_type": "markdown",
   "metadata": {},
   "source": [
    "# Exercise: Calculating costs for LLM API usage   "
   ]
  },
  {
   "cell_type": "markdown",
   "metadata": {},
   "source": [
    "Let's practice computing the costs for using LLMs through commercial LLMs.\n",
    "\n",
    "If you need help or guidance, please refer to notebook ['llm_tokenization_and_costs.ipynb'](./llm_tokenization_and_costs.ipynb)."
   ]
  },
  {
   "cell_type": "markdown",
   "metadata": {},
   "source": [
    "### Load your dataset"
   ]
  },
  {
   "cell_type": "code",
   "execution_count": 3,
   "metadata": {},
   "outputs": [],
   "source": [
    "import pandas as pd\n",
    "\n",
    "dataset_path = '../data/labeled/benoit_crowdsourced_2016/benoit_crowdsourced_2016-econ_policy_stance.csv'\n",
    "texts = pd.read_csv(dataset_path, usecols=['text'])['text']"
   ]
  },
  {
   "cell_type": "markdown",
   "metadata": {},
   "source": [
    "## Exercise 1: Costs with OpenAI's GPT-4o"
   ]
  },
  {
   "cell_type": "markdown",
   "metadata": {},
   "source": [
    "### Step 1: Select the model and get the tokenizer"
   ]
  },
  {
   "cell_type": "code",
   "execution_count": 4,
   "metadata": {},
   "outputs": [],
   "source": [
    "from utils.llms import OpenAITokenCounter\n",
    "\n",
    "MODEL = 'gpt-4o-2024-08-06'\n",
    "\n",
    "tokens_counter = OpenAITokenCounter(model=MODEL)"
   ]
  },
  {
   "cell_type": "markdown",
   "metadata": {},
   "source": [
    "### Step 3: count the input tokens"
   ]
  },
  {
   "cell_type": "code",
   "execution_count": 10,
   "metadata": {},
   "outputs": [],
   "source": [
    "# assume the following prompt\n",
    "instructions = \"\"\"\n",
    "You will be provided with a sentence. \n",
    "\n",
    "Your task is to classify the sentence's stance on economic policy issues as either left, central, or right.\n",
    "\n",
    "Please choose one of the following categories: left, central, right\n",
    "\n",
    "Only respond with your chosen category and no further text or explanations.\n",
    "\"\"\""
   ]
  },
  {
   "cell_type": "code",
   "execution_count": 5,
   "metadata": {},
   "outputs": [],
   "source": [
    "# TODO: compute the input tokens\n",
    "#=> n_input_tokens = ..."
   ]
  },
  {
   "cell_type": "markdown",
   "metadata": {},
   "source": [
    "### Step 4: estimate the output tokens"
   ]
  },
  {
   "cell_type": "code",
   "execution_count": 14,
   "metadata": {},
   "outputs": [],
   "source": [
    "# TODO: first check how many tokens each label class has\n",
    "#=> n_tokens_labels = ..."
   ]
  },
  {
   "cell_type": "code",
   "execution_count": null,
   "metadata": {},
   "outputs": [],
   "source": [
    "# TODO: guess-timate the number of output tokens that will be generated in reponse to your prompt (across all inputs) \n",
    "#=> n_output_tokens = ..."
   ]
  },
  {
   "cell_type": "markdown",
   "metadata": {},
   "source": [
    "### Step 5: compute the total cost estimate"
   ]
  },
  {
   "cell_type": "code",
   "execution_count": null,
   "metadata": {},
   "outputs": [],
   "source": [
    "# check https://openai.com/api/pricing/ to see that the dollar values used below are still correct\n",
    "(\n",
    "    n_input_tokens/1_000_000 * 2.50 # $2.50 per 1M input tokens\n",
    "    +\n",
    "    n_output_tokens/1_000_000 * 10.00 # $10 per 1M output tokens\n",
    ")"
   ]
  },
  {
   "cell_type": "markdown",
   "metadata": {},
   "source": [
    "## Exercise 2\n",
    "\n",
    "Please answer the following questions\n",
    "\n",
    "- Would it be cheaper to use Llama-3-70b-instruct through the replicate API (see https://replicate.com/meta/meta-llama-3-70b-instruct)? If so, by how much?\n",
    "- Would you say that in financial terms it'd be a viable option to instead use Llama 3.1 405B instruct? (see https://replicate.com/meta/meta-llama-3.1-405b-instruct)"
   ]
  }
 ],
 "metadata": {
  "kernelspec": {
   "display_name": "llm_text_annotation",
   "language": "python",
   "name": "python3"
  },
  "language_info": {
   "codemirror_mode": {
    "name": "ipython",
    "version": 3
   },
   "file_extension": ".py",
   "mimetype": "text/x-python",
   "name": "python",
   "nbconvert_exporter": "python",
   "pygments_lexer": "ipython3",
   "version": "3.11.9"
  }
 },
 "nbformat": 4,
 "nbformat_minor": 2
}
